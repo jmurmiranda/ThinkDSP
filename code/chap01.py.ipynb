{
 "metadata": {
  "name": "",
  "signature": "sha256:a7fe695af4de07502ffdca99d3fb86046a761d7833b1bba8e31e3c7f50d4ce50"
 },
 "nbformat": 3,
 "nbformat_minor": 0,
 "worksheets": [
  {
   "cells": [
    {
     "cell_type": "code",
     "collapsed": false,
     "input": [
      "import thinkdsp\n",
      "import thinkplot"
     ],
     "language": "python",
     "metadata": {},
     "outputs": [],
     "prompt_number": 1
    },
    {
     "cell_type": "code",
     "collapsed": false,
     "input": [
      "cos_sig = thinkdsp.CosSignal(freq=440, amp=1.0, offset=0)\n",
      "sin_sig = thinkdsp.SinSignal(freq=880, amp=0.5, offset=0)"
     ],
     "language": "python",
     "metadata": {},
     "outputs": [],
     "prompt_number": 2
    },
    {
     "cell_type": "code",
     "collapsed": false,
     "input": [
      "cos_sig.plot()"
     ],
     "language": "python",
     "metadata": {},
     "outputs": [],
     "prompt_number": 3
    },
    {
     "cell_type": "code",
     "collapsed": false,
     "input": [
      "sin_sig.plot()"
     ],
     "language": "python",
     "metadata": {},
     "outputs": [],
     "prompt_number": 4
    },
    {
     "cell_type": "code",
     "collapsed": false,
     "input": [
      "mix = sin_sig + cos_sig\n",
      "mix"
     ],
     "language": "python",
     "metadata": {},
     "outputs": [
      {
       "metadata": {},
       "output_type": "pyout",
       "prompt_number": 5,
       "text": [
        "<thinkdsp.SumSignal at 0x13b930b8>"
       ]
      }
     ],
     "prompt_number": 5
    },
    {
     "cell_type": "code",
     "collapsed": false,
     "input": [
      "wave = mix.make_wave(duration=0.5, start=0, framerate=11025)\n",
      "wave"
     ],
     "language": "python",
     "metadata": {},
     "outputs": [
      {
       "metadata": {},
       "output_type": "pyout",
       "prompt_number": 6,
       "text": [
        "<thinkdsp.Wave at 0x13b934a8>"
       ]
      }
     ],
     "prompt_number": 6
    },
    {
     "cell_type": "code",
     "collapsed": false,
     "input": [
      "from IPython.display import Audio\n",
      "audio = Audio(data=wave.ys, rate=wave.framerate)\n",
      "audio"
     ],
     "language": "python",
     "metadata": {},
     "outputs": [
      {
       "html": [
        "\n",
        "                <audio controls=\"controls\" >\n",
        "                    <source src=\"data:audio/wav;base64,UklGRjYrAABXQVZFZm10IBAAAAABAAEAESsAACJWAAACABAAZGF0YRIrAACIYiJ3738Zeahh5jsIDSjcybBKkZiBcoJukbSpQMVi3g/xwPue/wEAVgG7B74VcCsvRh5hO3bUf/B5aGNZPtIP2977sq6SCYL8gUeQLai0wxrdNvBZ+4j/AAAoAS4HuxQJKptEr19Ldax/uXodZcRAmRKS4Te1H5SIgpGBJ4+qpiXCzNtW7+z6bv8AAP8Apga+E6UoCEM8XlF0d39ze8RmJ0NfFUzkfbedlRSDM4EQjiqllcB52m/uefpR/wAA2QAlBscSRyd1QcRcTnM1fyB8YGiBRSIYC+fMuSeXr4PhgAKNraMEvyHZge0A+jH/AAC4AKsF2BHuJeM/SVtCcud+v3zuadNH4RrN6SO8v5hXhJyA/Is1onG9xNeN7IH5Df8AAJoANgXvEJkkUz7KWS1xjH5QfXBrG0qdHZHshL5jmg6FY4D/isCg3rti1pLr/Pjl/gAAfwDHBA0QSiPEPEdYEHAlftN95WxaTFUgWe/twBSc04U3gAyKUJ9KuvzUkOpw+Ln+//9oAF8EMQ8AIjc7wlbrbrJ9R35MbpBOCSMi8l3D0J2lhhiAIonknba4ktOI6d33iP7+/1QA/ANdDrsgrDk5Vb5tNH2ufqdvu1C5Je301sWZn4aHBoBCiH6cIrcj0nroRfdT/vv/QgCfA48NfB8jOK9TimypfAd/9HDcUmQouvdWyG6hdIgCgGyHHZuOtbDQZeel9hr+9/8zAEcDyAxDHpw2IlJOaxN8U38zcvNUCSuH+t3KT6NxiQqAoYbCmfqzOc9J5v/13P3y/ycA9QIIDBAdGTWTUAtqcnuQf2Vz/1apLVb9a807pXuKIIDghWyYZ7K/zSflU/WZ/ev/HACoAk4L4xuYMwJPwmjFesB/inQBWUMwIwD/zzKnk4tEgCmFHZfWsEHMAOSf9FD94/8UAGACnAq7GhsycE1yZw564n+gdfda1zLyAprSNam5jHWAfoTUlUWvwMrS4uXzA/3Y/w0AHgLwCZoZoTDeSxxmS3n3f6l24lxkNcAFOtVCq+yNtIDdg5KUt609yZ7hJPOw/Mz/CADgAUoJfxgrL0pKwGR/eP5/pHfBXuo3jgjg11qtLY8BgUmDV5MqrLbHZOBd8lj8vP8FAKcBrAhrF7gttkheY6h3+X+ReJVgajpaC4zafK97kFuBv4Ijkp+qLcYl347x+/uq/wIAcwEUCF0WSiwiR/dhx3blf3B5XWLhPCUOPN2psdeRxIFBgveQF6mixN/dufCX+5b/AQBDAYIHVRXgKo1FjGDcdcV/QnoYZFE/7xDw39+zQJM6gtCB04+SpxTDldzd7y77fv8AABcB9wZVFHop+kMbX+h0mH8Fe8hluUG2E6niH7a2lL6CaoG3jhCmhcFF2/ruv/pj/wAA7wByBloTGShmQqZd6nNef7p7amcZRHoWZeVouDmWUIMRgaONkaT1v/DZEe5J+kX/AADMAPMFZxK8JtRALVzkchd/YXwBaXBGOxkl6Lu6yZfxg8SAmIwWo2O+ltgg7c75I/8AAKwAewV6EWUlQz+wWtRxxH77fIpqvkj6G+jqFr1lmZ+Eg4CWi5+h0Lw31ynsTPn9/gAAjwAJBZMQEiSzPS9ZvHBlfoZ9B2wCS7Qeru16vw+bW4VQgJ2KLKA9u9TVLOvE+NT+AAB2AJ0EtA/FIiU8rFecb/l9A352bT5NayF28ObBxJwlhimArYm+nqi5bNQo6jb4pv7//18ANgTbDn0hmDolVnRugX1yftlub08dJEDzWcSGnv2GD4DHiFWdFLj/0h3pofdz/v3/TADWAwoOOyAOOZxURG3+fNR+LnCWUcsmDPbVxlOg44cDgOyH8JuAto/RDOgG9z3++v88AHsDPw3+HoY3EFMMbG58J391cbRTcynZ+FjJLaLYiAOAGoeRmuy0GtD05mT2Av71/y4AJgN6DMgdATaCUc5q1Httf69yxlUXLKf74ssSpNmJEoBShjiZWbOiztblu/XB/fD/IgDWAr0Llxx/NPNPiGkue6V/3HPOV7Qudf5yzgOm6YotgJWF5ZfGsSfNsuQM9Xz96P8ZAIsCBgtsGwAzYk48aH16z3/7dMtZTDFDAQnR/6cHjFaA44SZljWwqMuI41b0Mv3f/xEARQJWCkcahDHPTOpmwXnsfwx2vVvdMxIEptMFqjKNjYA8hFKVpq4mylfimfPj/NP/CwAFAq0JKBkLMDxLkWX7ePx/D3ejXWc24AZJ1hesa47RgKGDE5QYraHIIeHV8o78xv8HAMkBCgkQGJYuqEkzZCp4/n8FeH5f6zitCfHYM66xjyOBEIPbkoyrGcfl3wvyNPy2/wQAkgFuCP4WJS0USM9iT3fyf+x4TWFnO3kMnttZsAWRg4GLgqqRAqqPxaPeOvHU+6P/AgBfAdkH8xW5K4BGZmFqdtp/xnkQY9w9Qw9Q3oqyZpLxgROCgZB7qAPEXN1i8G77jf8AADEBSgfuFFAq7ET5X3t1tX+ResZkSUALEgbhxLTUk22CpoFgj/emdcIP3IPvAvt0/wAABwHBBvAT7ChYQ4Zeg3SCf097cWatQtEUwOMIt0+V94JFgUeOdqXlwL3anu6R+lj/AADhAD8G+BKNJ8VBEF2Cc0N//3sOaAlFlBd+5lW515aPg/CAN435o1S/Ztmx7Rn6OP8AAL4AwwUHEjImM0CVW3hy+H6gfKBpXUdVGj/pq7tsmDWEqYAwjICiwr0K2L7sm/kU/wAAoABNBR0R3SSjPhdaZXGffjR9JGunSREdBOwKvg6a6IRtgDGLCqEvvKrWxesX+e3+AACEAN0EORCMIxM9lVhKcDt+uX2bbOhLyx/K7nHAvJuqhT+APIqZn5u6RNXF6oz4wv7//2wAcwRdD0EihjsQVyZvyn0xfgZuH05/IpPx4MJ2nXqGHYBQiS2eB7na077p+/eS/v7/VwAPBIcO/CD6OYhV+21OfZt+Y29NUDAlXvRXxT2fWIcJgG6IxZxyt2zSsOhk917+/P9FALEDuA28H3E4/lPIbMZ8936ycHBS3Ccq99XHD6FDiAGAlodjm961+tCd58b2Jv74/zYAWAPvDIEe6jZxUo5rMnxFf/VxiVSCKvj5W8ruoj2JCIDJhgeaS7SEz4LmIfbo/fP/KQAFAy4MTR1mNeNQTGqTe4V/KXOXViMtxvzozNekRYobgAWGsJi4sgvOYuV29ab97f8eALcCcwseHOUzUk8Eaeh6uH9QdJtYvi+V/3vPzaZaizyATYVflyaxjsw75MT0X/3l/xUAbgK/CvYaZzLBTbZnM3rdf2p1k1pTMmICFNLNqH2MaoCfhBWWla8Oyw/jC/QT/dv/DwArAhIK1BntMC5MYWZzefR/dXaBXOI0MQWz1NiqrY2mgP2D0pQGrorJ3OFM88H8zv8JAOwBawm3GHUvm0oGZah4/n9zd2Jeajf/B1jX7qzsjvCAZYOVk3msBMij4IXyavzA/wUAsgHLCKIXAi4HSaVj1Hf7f2N4OGDqOcsKA9oOrzeQSIHagmCS7qp8xmXfuPEO/K7/AwB9ATIIkhaTLHNHQGL1dup/RXkCYmQ8lw2y3DixkJGugVqCM5FlqfHEId7k8Kz7mv8BAEwBnweKFSgr3kXVYAx2zX8ZesFj1T5gEGXfbbP3kiGC5oENkOCnZMPX3ArwQ/uD/wAAIAESB4cUwSlKRGVfGXWif996cmU/QSgTHeKrtWqUo4J9ge+OXabVwYnbKO/V+mn/AAD3AIwGjBNfKLdC8V0edGt/l3sYZ6BD7BXZ5PK365UygyKB2o3dpEXANdpA7mH6S/8AANIADAaXEgInJEF5XBlzJn9BfLBo+UWvGJjnQ7p4l8+D0oDNjGKjs77c2FHt5/kq/wAAsgCTBakRqSWTP/xaC3LWft18PWpISG0bWuqcvBKZe4SPgMmL6qEhvX7XW+xn+QX/AACUAB8FwRBWJAM+fVn1cHl+a328a49KKR4g7f++uJo0hVmAzop2oI27G9Zf6+D43P4AAHoAsgTgDwcjdDz6V9ZvD37rfS5tzEzgIOfvacFsnPyFMIDdiQef+bm01FzqU/iv/v//ZABKBAYPviHnOnNWsG6afV1+k27/TpMjsfLbwyue0YYUgPWInJ1luEjTU+m/937+/f9QAOkDMw57IF0561SBbRl9wX7rbylRQiZ89VXG9p+0hwSAF4g3nNG22dFD6CX3SP76/z8AjQNnDT0f1DdfU0tsjHwYfzVxSFPsKEn418jNoaaIAoBDh9eaPbVl0CznhfYO/vb/MAA2A6EMBR5PNtJRDmv0e2B/cnJdVZArF/tfy7CjpYkOgHmGfZmps+7OEObd9c/98f8kAOUC4gvTHMw0Q1DKaVB7m3+hc2dXLy7l/e7Nn6WyiiaAuoUpmBeyc83t5C/1i/3q/xoAmQIqC6cbTDOyTn9ooXrIf8N0ZlnHMLMAhNCYp82LTYAGhduWhbD1y8Tje/RB/eH/EgBTAnkKgRrPMSBNLmfoeeh/1nVaW1ozggMg052p9YyBgF2Ek5X1rnPKleK/8/P81v8MABECzglhGVYwjUvXZSN5+n/ddkNd5jVQBsLVrKsrjsKAv4NSlGet78hf4f3yn/zJ/wgA1AEqCUgY4S75SXpkVHj+f9V3IF9rOB0JadjGrW+PEoEsgxmT26toxyXgNPJG/Ln/BACcAY0INBdvLWVIF2N8d/Z/v3jxYOk66gsV2+uvwJBvgaWC55FRqt7F5N5k8ef7p/8CAGkB9gcoFgEs0UavYZl24H+bebZiXz20DsbdGbIektqBKoK8kMmoUsSe3Y7wg/uR/wEAOgFmByIVmCo9RUJgrHW9f2p6cGTNP30Re+BRtIqTU4K6gZmPRafFwlLcsO8Y+3n/AAAPAdwGIhQzKalD0V62dI1/KnscZjRCQxQ045O2ApXagleBf47DpTXBAdvM7qj6Xf8AAOgAWAYpE9MnFkJbXbZzUX/de71nkUQHF/Ll3riIlm+DAIFtjUWkpb+r2eHtMfo+/wAAxQDbBTcSdyaEQOFbrnIIf4F8UGnmRsgZsugzuxqYEoS2gGSMy6ITvlDY8Oy1+Rz/AACmAGQFSxEhJfM+Y1qdcbJ+F33XajNJhhx264+9uZnDhHiAY4tUoX+88Nb36zL59f4AAIoA8wRmEM8jYz3iWINwUH6gfVFsdUs/Hzzu9b9lm4KFR4BsiuOf7LqM1fjqqPjL/gAAcQCIBIgPgyLVO15XYW/ifRp+vm2vTfUhBPFjwh2dT4YjgH+JdZ5YuSPU8+kZ+Jz+/v9bACMEsQ48IUk611U4bmh9h34eb95PpyTP89jE4Z4qhwyAm4gNncO3ttLn6IP3af78/0kAwwPgDfsfwDhNVAZt4nzlfnBwA1JTJ5v2VcexoBOIAoDBh6qbL7ZF0dTn5vYx/vn/OQBpAxcNwB44N8FSzWtQfDZ/tXEeVPspaPnZyY2iCokFgPGGTJqbtM/Pu+ZD9vX99P8rABUDVAyKHbQ1M1GNarN7eX/tci9WnSw2/GXMdaQPihaALIb0mAizV86c5Zn1tP3u/yAAxgKYC1ocMjSjT0ZpC3uvfxZ0NVg5LwX/9s5npiGLNIBxhaKXdrHazHfk6PRu/eb/FwB9AuIKMRuzMhFO+WdYetZ/M3UvWtAx0wGP0WWoQYxggMGEV5blr1vLS+Mx9CP93f8QADgCNAoNGjgxf0ylZpp58H9Bdh9cYDShBC3UbqpvjZmAHIQSlVau2Mka4nLz0vzR/woA+AGMCfAYwC/sSkxl0nj9f0F3A17pNm8H0daCrKuO4ICDg9STyKxTyOLgrfJ8/MP/BgC9AeoI2RdMLlhJ7GP/d/1/NHjbX2s5PAp62aCu9I81gfWCnZI9q8vGpd/i8SH8sv8DAIcBUAjIFtwsw0eIYiJ3738Zeahh5jsIDSjcybBKkZiBcoJukbSpQMVi3g/xwPue/wEAVgG7B74VcCsvRh5hO3bUf/B5aGNZPtIP2977sq6SCYL8gUeQLai0wxrdNvBZ+4j/AAAoAS4HuxQJKptEr19Ldax/uXodZcRAmRKS4Te1H5SIgpGBJ4+qpiXCzNtW7+z6bv8AAP8Apga+E6UoCEM8XlF0d39ze8RmJ0NfFUzkfbedlRSDM4EQjiqllcB52m/uefpR/wAA2QAlBscSRyd1QcRcTnM1fyB8YGiBRSIYC+fMuSeXr4PhgAKNraMEvyHZge0A+jH/AAC4AKsF2BHuJeM/SVtCcud+v3zuadNH4RrN6SO8v5hXhJyA/Is1onG9xNeN7IH5Df8AAJoANgXvEJkkUz7KWS1xjH5QfXBrG0qdHZHshL5jmg6FY4D/isCg3rti1pLr/Pjl/gAAfwDHBA0QSiPEPEdYEHAlftN95WxaTFUgWe/twBSc04U3gAyKUJ9KuvzUkOpw+Ln+//9oAF8EMQ8AIjc7wlbrbrJ9R35MbpBOCSMi8l3D0J2lhhiAIonknba4ktOI6d33iP7+/1QA/ANdDrsgrDk5Vb5tNH2ufqdvu1C5Je301sWZn4aHBoBCiH6cIrcj0nroRfdT/vv/QgCfA48NfB8jOK9TimypfAd/9HDcUmQouvdWyG6hdIgCgGyHHZuOtbDQZeel9hr+9/8zAEcDyAxDHpw2IlJOaxN8U38zcvNUCSuH+t3KT6NxiQqAoYbCmfqzOc9J5v/13P3y/ycA9QIIDBAdGTWTUAtqcnuQf2Vz/1apLVb9a807pXuKIIDghWyYZ7K/zSflU/WZ/ev/HACoAk4L4xuYMwJPwmjFesB/inQBWUMwIwD/zzKnk4tEgCmFHZfWsEHMAOSf9FD94/8UAGACnAq7GhsycE1yZw564n+gdfda1zLyAprSNam5jHWAfoTUlUWvwMrS4uXzA/3Y/w0AHgLwCZoZoTDeSxxmS3n3f6l24lxkNcAFOtVCq+yNtIDdg5KUt609yZ7hJPOw/Mz/CADgAUoJfxgrL0pKwGR/eP5/pHfBXuo3jgjg11qtLY8BgUmDV5MqrLbHZOBd8lj8vP8FAKcBrAhrF7gttkheY6h3+X+ReJVgajpaC4zafK97kFuBv4Ijkp+qLcYl347x+/uq/wIAcwEUCF0WSiwiR/dhx3blf3B5XWLhPCUOPN2psdeRxIFBgveQF6mixN/dufCX+5b/AQBDAYIHVRXgKo1FjGDcdcV/QnoYZFE/7xDw39+zQJM6gtCB04+SpxTDldzd7y77fv8AABcB9wZVFHop+kMbX+h0mH8Fe8hluUG2E6niH7a2lL6CaoG3jhCmhcFF2/ruv/pj/wAA7wByBloTGShmQqZd6nNef7p7amcZRHoWZeVouDmWUIMRgaONkaT1v/DZEe5J+kX/AADMAPMFZxK8JtRALVzkchd/YXwBaXBGOxkl6Lu6yZfxg8SAmIwWo2O+ltgg7c75I/8AAKwAewV6EWUlQz+wWtRxxH77fIpqvkj6G+jqFr1lmZ+Eg4CWi5+h0Lw31ynsTPn9/gAAjwAJBZMQEiSzPS9ZvHBlfoZ9B2wCS7Qeru16vw+bW4VQgJ2KLKA9u9TVLOvE+NT+AAB2AJ0EtA/FIiU8rFecb/l9A352bT5NayF28ObBxJwlhimArYm+nqi5bNQo6jb4pv7//18ANgTbDn0hmDolVnRugX1yftlub08dJEDzWcSGnv2GD4DHiFWdFLj/0h3pofdz/v3/TADWAwoOOyAOOZxURG3+fNR+LnCWUcsmDPbVxlOg44cDgOyH8JuAto/RDOgG9z3++v88AHsDPw3+HoY3EFMMbG58J391cbRTcynZ+FjJLaLYiAOAGoeRmuy0GtD05mT2Av71/y4AJgN6DMgdATaCUc5q1Httf69yxlUXLKf74ssSpNmJEoBShjiZWbOiztblu/XB/fD/IgDWAr0Llxx/NPNPiGkue6V/3HPOV7Qudf5yzgOm6YotgJWF5ZfGsSfNsuQM9Xz96P8ZAIsCBgtsGwAzYk48aH16z3/7dMtZTDFDAQnR/6cHjFaA44SZljWwqMuI41b0Mv3f/xEARQJWCkcahDHPTOpmwXnsfwx2vVvdMxIEptMFqjKNjYA8hFKVpq4mylfimfPj/NP/CwAFAq0JKBkLMDxLkWX7ePx/D3ejXWc24AZJ1hesa47RgKGDE5QYraHIIeHV8o78xv8HAMkBCgkQGJYuqEkzZCp4/n8FeH5f6zitCfHYM66xjyOBEIPbkoyrGcfl3wvyNPy2/wQAkgFuCP4WJS0USM9iT3fyf+x4TWFnO3kMnttZsAWRg4GLgqqRAqqPxaPeOvHU+6P/AgBfAdkH8xW5K4BGZmFqdtp/xnkQY9w9Qw9Q3oqyZpLxgROCgZB7qAPEXN1i8G77jf8AADEBSgfuFFAq7ET5X3t1tX+ResZkSUALEgbhxLTUk22CpoFgj/emdcIP3IPvAvt0/wAABwHBBvAT7ChYQ4Zeg3SCf097cWatQtEUwOMIt0+V94JFgUeOdqXlwL3anu6R+lj/AADhAD8G+BKNJ8VBEF2Cc0N//3sOaAlFlBd+5lW515aPg/CAN435o1S/Ztmx7Rn6OP8AAL4AwwUHEjImM0CVW3hy+H6gfKBpXUdVGj/pq7tsmDWEqYAwjICiwr0K2L7sm/kU/wAAoABNBR0R3SSjPhdaZXGffjR9JGunSREdBOwKvg6a6IRtgDGLCqEvvKrWxesX+e3+AACEAN0EORCMIxM9lVhKcDt+uX2bbOhLyx/K7nHAvJuqhT+APIqZn5u6RNXF6oz4wv7//2wAcwRdD0EihjsQVyZvyn0xfgZuH05/IpPx4MJ2nXqGHYBQiS2eB7na077p+/eS/v7/VwAPBIcO/CD6OYhV+21OfZt+Y29NUDAlXvRXxT2fWIcJgG6IxZxyt2zSsOhk917+/P9FALEDuA28H3E4/lPIbMZ8936ycHBS3Ccq99XHD6FDiAGAlodjm961+tCd58b2Jv74/zYAWAPvDIEe6jZxUo5rMnxFf/VxiVSCKvj5W8ruoj2JCIDJhgeaS7SEz4LmIfbo/fP/KQAFAy4MTR1mNeNQTGqTe4V/KXOXViMtxvzozNekRYobgAWGsJi4sgvOYuV29ab97f8eALcCcwseHOUzUk8Eaeh6uH9QdJtYvi+V/3vPzaZaizyATYVflyaxjsw75MT0X/3l/xUAbgK/CvYaZzLBTbZnM3rdf2p1k1pTMmICFNLNqH2MaoCfhBWWla8Oyw/jC/QT/dv/DwArAhIK1BntMC5MYWZzefR/dXaBXOI0MQWz1NiqrY2mgP2D0pQGrorJ3OFM88H8zv8JAOwBawm3GHUvm0oGZah4/n9zd2Jeajf/B1jX7qzsjvCAZYOVk3msBMij4IXyavzA/wUAsgHLCKIXAi4HSaVj1Hf7f2N4OGDqOcsKA9oOrzeQSIHagmCS7qp8xmXfuPEO/K7/AwB9ATIIkhaTLHNHQGL1dup/RXkCYmQ8lw2y3DixkJGugVqCM5FlqfHEId7k8Kz7mv8BAEwBnweKFSgr3kXVYAx2zX8ZesFj1T5gEGXfbbP3kiGC5oENkOCnZMPX3ArwQ/uD/wAAIAESB4cUwSlKRGVfGXWif996cmU/QSgTHeKrtWqUo4J9ge+OXabVwYnbKO/V+mn/AAD3AIwGjBNfKLdC8V0edGt/l3sYZ6BD7BXZ5PK365UygyKB2o3dpEXANdpA7mH6S/8AANIADAaXEgInJEF5XBlzJn9BfLBo+UWvGJjnQ7p4l8+D0oDNjGKjs77c2FHt5/kq/wAAsgCTBakRqSWTP/xaC3LWft18PWpISG0bWuqcvBKZe4SPgMmL6qEhvX7XW+xn+QX/AACUAB8FwRBWJAM+fVn1cHl+a328a49KKR4g7f++uJo0hVmAzop2oI27G9Zf6+D43P4AAHoAsgTgDwcjdDz6V9ZvD37rfS5tzEzgIOfvacFsnPyFMIDdiQef+bm01FzqU/iv/v//ZABKBAYPviHnOnNWsG6afV1+k27/TpMjsfLbwyue0YYUgPWInJ1luEjTU+m/937+/f9QAOkDMw57IF0561SBbRl9wX7rbylRQiZ89VXG9p+0hwSAF4g3nNG22dFD6CX3SP76/z8AjQNnDT0f1DdfU0tsjHwYfzVxSFPsKEn418jNoaaIAoBDh9eaPbVl0CznhfYO/vb/MAA2A6EMBR5PNtJRDmv0e2B/cnJdVZArF/tfy7CjpYkOgHmGfZmps+7OEObd9c/98f8kAOUC4gvTHMw0Q1DKaVB7m3+hc2dXLy7l/e7Nn6WyiiaAuoUpmBeyc83t5C/1i/3q/xoAmQIqC6cbTDOyTn9ooXrIf8N0ZlnHMLMAhNCYp82LTYAGhduWhbD1y8Tje/RB/eH/EgBTAnkKgRrPMSBNLmfoeeh/1nVaW1ozggMg052p9YyBgF2Ek5X1rnPKleK/8/P81v8MABECzglhGVYwjUvXZSN5+n/ddkNd5jVQBsLVrKsrjsKAv4NSlGet78hf4f3yn/zJ/wgA1AEqCUgY4S75SXpkVHj+f9V3IF9rOB0JadjGrW+PEoEsgxmT26toxyXgNPJG/Ln/BACcAY0INBdvLWVIF2N8d/Z/v3jxYOk66gsV2+uvwJBvgaWC55FRqt7F5N5k8ef7p/8CAGkB9gcoFgEs0UavYZl24H+bebZiXz20DsbdGbIektqBKoK8kMmoUsSe3Y7wg/uR/wEAOgFmByIVmCo9RUJgrHW9f2p6cGTNP30Re+BRtIqTU4K6gZmPRafFwlLcsO8Y+3n/AAAPAdwGIhQzKalD0V62dI1/KnscZjRCQxQ045O2ApXagleBf47DpTXBAdvM7qj6Xf8AAOgAWAYpE9MnFkJbXbZzUX/de71nkUQHF/Ll3riIlm+DAIFtjUWkpb+r2eHtMfo+/wAAxQDbBTcSdyaEQOFbrnIIf4F8UGnmRsgZsugzuxqYEoS2gGSMy6ITvlDY8Oy1+Rz/AACmAGQFSxEhJfM+Y1qdcbJ+F33XajNJhhx264+9uZnDhHiAY4tUoX+88Nb36zL59f4AAIoA8wRmEM8jYz3iWINwUH6gfVFsdUs/Hzzu9b9lm4KFR4BsiuOf7LqM1fjqqPjL/gAAcQCIBIgPgyLVO15XYW/ifRp+vm2vTfUhBPFjwh2dT4YjgH+JdZ5YuSPU8+kZ+Jz+/v9bACMEsQ48IUk611U4bmh9h34eb95PpyTP89jE4Z4qhwyAm4gNncO3ttLn6IP3af78/0kAwwPgDfsfwDhNVAZt4nzlfnBwA1JTJ5v2VcexoBOIAoDBh6qbL7ZF0dTn5vYx/vn/OQBpAxcNwB44N8FSzWtQfDZ/tXEeVPspaPnZyY2iCokFgPGGTJqbtM/Pu+ZD9vX99P8rABUDVAyKHbQ1M1GNarN7eX/tci9WnSw2/GXMdaQPihaALIb0mAizV86c5Zn1tP3u/yAAxgKYC1ocMjSjT0ZpC3uvfxZ0NVg5LwX/9s5npiGLNIBxhaKXdrHazHfk6PRu/eb/FwB9AuIKMRuzMhFO+WdYetZ/M3UvWtAx0wGP0WWoQYxggMGEV5blr1vLS+Mx9CP93f8QADgCNAoNGjgxf0ylZpp58H9Bdh9cYDShBC3UbqpvjZmAHIQSlVau2Mka4nLz0vzR/woA+AGMCfAYwC/sSkxl0nj9f0F3A17pNm8H0daCrKuO4ICDg9STyKxTyOLgrfJ8/MP/BgC9AeoI2RdMLlhJ7GP/d/1/NHjbX2s5PAp62aCu9I81gfWCnZI9q8vGpd/i8SH8sv8DAIcBUAjIFtwsw0eIYiJ3738Zeahh5jsIDSjcybBKkZiBcoJukbSpQMVi3g/xwPue/wEAVgG7B74VcCsvRh5hO3bUf/B5aGNZPtIP2977sq6SCYL8gUeQLai0wxrdNvBZ+4j/AAAoAS4HuxQJKptEr19Ldax/uXodZcRAmRKS4Te1H5SIgpGBJ4+qpiXCzNtW7+z6bv8AAP8Apga+E6UoCEM8XlF0d39ze8RmJ0NfFUzkfbedlRSDM4EQjiqllcB52m/uefpR/wAA2QAlBscSRyd1QcRcTnM1fyB8YGiBRSIYC+fMuSeXr4PhgAKNraMEvyHZge0A+jH/AAC4AKsF2BHuJeM/SVtCcud+v3zuadNH4RrN6SO8v5hXhJyA/Is1onG9xNeN7IH5Df8AAJoANgXvEJkkUz7KWS1xjH5QfXBrG0qdHZHshL5jmg6FY4D/isCg3rti1pLr/Pjl/gAAfwDHBA0QSiPEPEdYEHAlftN95WxaTFUgWe/twBSc04U3gAyKUJ9KuvzUkOpw+Ln+//9oAF8EMQ8AIjc7wlbrbrJ9R35MbpBOCSMi8l3D0J2lhhiAIonknba4ktOI6d33iP7+/1QA/ANdDrsgrDk5Vb5tNH2ufqdvu1C5Je301sWZn4aHBoBCiH6cIrcj0nroRfdT/vv/QgCfA48NfB8jOK9TimypfAd/9HDcUmQouvdWyG6hdIgCgGyHHZuOtbDQZeel9hr+9/8zAEcDyAxDHpw2IlJOaxN8U38zcvNUCSuH+t3KT6NxiQqAoYbCmfqzOc9J5v/13P3y/ycA9QIIDBAdGTWTUAtqcnuQf2Vz/1apLVb9a807pXuKIIDghWyYZ7K/zSflU/WZ/ev/HACoAk4L4xuYMwJPwmjFesB/inQBWUMwIwD/zzKnk4tEgCmFHZfWsEHMAOSf9FD94/8UAGACnAq7GhsycE1yZw564n+gdfda1zLyAprSNam5jHWAfoTUlUWvwMrS4uXzA/3Y/w0AHgLwCZoZoTDeSxxmS3n3f6l24lxkNcAFOtVCq+yNtIDdg5KUt609yZ7hJPOw/Mz/CADgAUoJfxgrL0pKwGR/eP5/pHfBXuo3jgjg11qtLY8BgUmDV5MqrLbHZOBd8lj8vP8FAKcBrAhrF7gttkheY6h3+X+ReJVgajpaC4zafK97kFuBv4Ijkp+qLcYl347x+/uq/wIAcwEUCF0WSiwiR/dhx3blf3B5XWLhPCUOPN2psdeRxIFBgveQF6mixN/dufCX+5b/AQBDAYIHVRXgKo1FjGDcdcV/QnoYZFE/7xDw39+zQJM6gtCB04+SpxTDldzd7y77fv8AABcB9wZVFHop+kMbX+h0mH8Fe8hluUG2E6niH7a2lL6CaoG3jhCmhcFF2/ruv/pj/wAA7wByBloTGShmQqZd6nNef7p7amcZRHoWZeVouDmWUIMRgaONkaT1v/DZEe5J+kX/AADMAPMFZxK8JtRALVzkchd/YXwBaXBGOxkl6Lu6yZfxg8SAmIwWo2O+ltgg7c75I/8AAKwAewV6EWUlQz+wWtRxxH77fIpqvkj6G+jqFr1lmZ+Eg4CWi5+h0Lw31ynsTPn9/gAAjwAJBZMQEiSzPS9ZvHBlfoZ9B2wCS7Qeru16vw+bW4VQgJ2KLKA9u9TVLOvE+NT+AAB2AJ0EtA/FIiU8rFecb/l9A352bT5NayF28ObBxJwlhimArYm+nqi5bNQo6jb4pv7//18ANgTbDn0hmDolVnRugX1yftlub08dJEDzWcSGnv2GD4DHiFWdFLj/0h3pofdz/v3/TADWAwoOOyAOOZxURG3+fNR+LnCWUcsmDPbVxlOg44cDgOyH8JuAto/RDOgG9z3++v88AHsDPw3+HoY3EFMMbG58J391cbRTcynZ+FjJLaLYiAOAGoeRmuy0GtD05mT2Av71/y4AJgN6DMgdATaCUc5q1Httf69yxlUXLKf74ssSpNmJEoBShjiZWbOiztblu/XB/fD/IgDWAr0Llxx/NPNPiGkue6V/3HPOV7Qudf5yzgOm6YotgJWF5ZfGsSfNsuQM9Xz96P8ZAIsCBgtsGwAzYk48aH16z3/7dMtZTDFDAQnR/6cHjFaA44SZljWwqMuI41b0Mv3f/xEARQJWCkcahDHPTOpmwXnsfwx2vVvdMxIEptMFqjKNjYA8hFKVpq4mylfimfPj/NP/CwAFAq0JKBkLMDxLkWX7ePx/D3ejXWc24AZJ1hesa47RgKGDE5QYraHIIeHV8o78xv8HAMkBCgkQGJYuqEkzZCp4/n8FeH5f6zitCfHYM66xjyOBEIPbkoyrGcfl3wvyNPy2/wQAkgFuCP4WJS0USM9iT3fyf+x4TWFnO3kMnttZsAWRg4GLgqqRAqqPxaPeOvHU+6P/AgBfAdkH8xW5K4BGZmFqdtp/xnkQY9w9Qw9Q3oqyZpLxgROCgZB7qAPEXN1i8G77jf8AADEBSgfuFFAq7ET5X3t1tX+ResZkSUALEgbhxLTUk22CpoFgj/emdcIP3IPvAvt0/wAABwHBBvAT7ChYQ4Zeg3SCf097cWatQtEUwOMIt0+V94JFgUeOdqXlwL3anu6R+lj/AADhAD8G+BKNJ8VBEF2Cc0N//3sOaAlFlBd+5lW515aPg/CAN435o1S/Ztmx7Rn6OP8AAL4AwwUHEjImM0CVW3hy+H6gfKBpXUdVGj/pq7tsmDWEqYAwjICiwr0K2L7sm/kU/wAAoABNBR0R3SSjPhdaZXGffjR9JGunSREdBOwKvg6a6IRtgDGLCqEvvKrWxesX+e3+AACEAN0EORCMIxM9lVhKcDt+uX2bbOhLyx/K7nHAvJuqhT+APIqZn5u6RNXF6oz4wv7//2wAcwRdD0EihjsQVyZvyn0xfgZuH05/IpPx4MJ2nXqGHYBQiS2eB7na077p+/eS/v7/VwAPBIcO/CD6OYhV\" type=\"audio/wav\" />\n",
        "                    Your browser does not support the audio element.\n",
        "                </audio>\n",
        "              "
       ],
       "metadata": {},
       "output_type": "pyout",
       "prompt_number": 7,
       "text": [
        "<IPython.lib.display.Audio at 0x13b93438>"
       ]
      }
     ],
     "prompt_number": 7
    },
    {
     "cell_type": "code",
     "collapsed": false,
     "input": [
      "print 'Number of samples', len(wave.ys)\n",
      "print 'Timestep in ms', 1.0 / 11025 * 1000"
     ],
     "language": "python",
     "metadata": {},
     "outputs": [
      {
       "output_type": "stream",
       "stream": "stdout",
       "text": [
        "Number of samples 5513\n",
        "Timestep in ms 0.0907029478458\n"
       ]
      }
     ],
     "prompt_number": 8
    },
    {
     "cell_type": "code",
     "collapsed": false,
     "input": [
      "period = mix.period\n",
      "segment = wave.segment(start=0, duration=period*3)"
     ],
     "language": "python",
     "metadata": {},
     "outputs": [],
     "prompt_number": 9
    },
    {
     "cell_type": "code",
     "collapsed": false,
     "input": [
      "segment.plot()"
     ],
     "language": "python",
     "metadata": {},
     "outputs": [],
     "prompt_number": 10
    },
    {
     "cell_type": "code",
     "collapsed": false,
     "input": [
      "wave.normalize()\n",
      "wave.apodize()\n",
      "wave.plot()"
     ],
     "language": "python",
     "metadata": {},
     "outputs": [],
     "prompt_number": 11
    },
    {
     "cell_type": "code",
     "collapsed": false,
     "input": [
      "filename = 'temp.wav'\n",
      "wave.write('temp.wav')"
     ],
     "language": "python",
     "metadata": {},
     "outputs": [
      {
       "output_type": "stream",
       "stream": "stdout",
       "text": [
        "Writing temp.wav\n"
       ]
      }
     ],
     "prompt_number": 12
    },
    {
     "cell_type": "code",
     "collapsed": false,
     "input": [
      "thinkdsp.play_wave(filename='temp.wav', player='aplay')"
     ],
     "language": "python",
     "metadata": {},
     "outputs": [],
     "prompt_number": 13
    },
    {
     "cell_type": "code",
     "collapsed": false,
     "input": [
      "reload(thinkdsp)\n",
      "wave.make_audio()"
     ],
     "language": "python",
     "metadata": {},
     "outputs": [
      {
       "html": [
        "\n",
        "                <audio controls=\"controls\" >\n",
        "                    <source src=\"data:audio/wav;base64,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\" type=\"audio/wav\" />\n",
        "                    Your browser does not support the audio element.\n",
        "                </audio>\n",
        "              "
       ],
       "metadata": {},
       "output_type": "pyout",
       "prompt_number": 14,
       "text": [
        "<IPython.lib.display.Audio at 0x13ba6898>"
       ]
      }
     ],
     "prompt_number": 14
    },
    {
     "cell_type": "code",
     "collapsed": false,
     "input": [
      " wave = thinkdsp.read_wave('92002__jcveliz__violin-origional.wav')"
     ],
     "language": "python",
     "metadata": {},
     "outputs": [],
     "prompt_number": 16
    },
    {
     "cell_type": "code",
     "collapsed": false,
     "input": [
      "start = 1.2\n",
      "duration = 0.6\n",
      "segment = wave.segment(start, duration)"
     ],
     "language": "python",
     "metadata": {},
     "outputs": [],
     "prompt_number": 17
    },
    {
     "cell_type": "code",
     "collapsed": false,
     "input": [
      "spectrum = segment.make_spectrum()"
     ],
     "language": "python",
     "metadata": {},
     "outputs": [],
     "prompt_number": 18
    },
    {
     "cell_type": "code",
     "collapsed": false,
     "input": [
      "spectrum.plot()"
     ],
     "language": "python",
     "metadata": {},
     "outputs": [],
     "prompt_number": 19
    },
    {
     "cell_type": "code",
     "collapsed": false,
     "input": [
      "spectrum.low_pass(1800)"
     ],
     "language": "python",
     "metadata": {},
     "outputs": [],
     "prompt_number": 20
    },
    {
     "cell_type": "code",
     "collapsed": false,
     "input": [
      "spectrum.plot()"
     ],
     "language": "python",
     "metadata": {},
     "outputs": [],
     "prompt_number": 21
    },
    {
     "cell_type": "code",
     "collapsed": false,
     "input": [
      "filtered = spectrum.make_wave()\n",
      "filtered.plot()"
     ],
     "language": "python",
     "metadata": {},
     "outputs": [],
     "prompt_number": 22
    },
    {
     "cell_type": "code",
     "collapsed": false,
     "input": [
      "filtered.normalize()\n",
      "filtered.plot()"
     ],
     "language": "python",
     "metadata": {},
     "outputs": [],
     "prompt_number": 23
    },
    {
     "cell_type": "code",
     "collapsed": false,
     "input": [
      "segment.apodize()\n",
      "segment.plot()"
     ],
     "language": "python",
     "metadata": {},
     "outputs": []
    },
    {
     "cell_type": "code",
     "collapsed": false,
     "input": [
      "filtered.apodize()\n",
      "filtered.plot()"
     ],
     "language": "python",
     "metadata": {},
     "outputs": []
    },
    {
     "cell_type": "code",
     "collapsed": false,
     "input": [
      "segment.make_audio()"
     ],
     "language": "python",
     "metadata": {},
     "outputs": []
    },
    {
     "cell_type": "code",
     "collapsed": false,
     "input": [
      "filtered.make_audio()"
     ],
     "language": "python",
     "metadata": {},
     "outputs": []
    },
    {
     "cell_type": "code",
     "collapsed": false,
     "input": [],
     "language": "python",
     "metadata": {},
     "outputs": []
    }
   ],
   "metadata": {}
  }
 ]
}